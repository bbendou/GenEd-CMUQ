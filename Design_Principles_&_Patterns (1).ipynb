{
  "nbformat": 4,
  "nbformat_minor": 0,
  "metadata": {
    "colab": {
      "provenance": [],
      "toc_visible": true
    },
    "kernelspec": {
      "name": "python3",
      "display_name": "Python 3"
    },
    "language_info": {
      "name": "python"
    }
  },
  "cells": [
    {
      "cell_type": "markdown",
      "source": [
        "# Agenda (12th March 2025)\n",
        "\n",
        "* PDF Report Review of IBX Medical ASR Evaluation\n",
        "* Recap of things from past week.\n",
        "   * Reflection: Challenges, Observations, Questions?\n",
        "   * e.g. Philosophy of Code-reusability, Extensibility.\n",
        "   * Layered Software Architecture\n",
        "   * An Appreciation for Design Patterns.\n",
        "* **New**: Building up on the above, with famous software principles and appreciation of them with concrete examples (and counter-examples)."
      ],
      "metadata": {
        "id": "vnsu4A8ZA-Yv"
      }
    },
    {
      "cell_type": "markdown",
      "source": [
        "# Design Principles\n",
        "\n",
        "Software Design Principles are **guidelines** that help developers create *scalable* and *maintainable* software. They aim to reduce **complexity** *(with exceptions ofcourse)*, improve **code reusability**, and prevent common pitfalls like **tight coupling** and **code duplication.**\n",
        "\n",
        "Last time we looked at:\n",
        "\n",
        "- Separation of Concerns (SoC)\n",
        "\n",
        "**Definition**: SoC advocates for dividing a software system into distinct sections, each addressing a separate concern. This enhances modularity, reduces code duplication, and makes it easier to understand and maintain.\n",
        "\n",
        "**Example**: In a web application, separating the user interface logic, business logic, and data access logic into different modules or layers.\n",
        "\n",
        "**Counterexample**: A single class or module that handles all aspects of an application, such as user input, data processing, and database interaction. This can lead to a tightly coupled and difficult-to-maintain codebase."
      ],
      "metadata": {
        "id": "juHzehuStkk9"
      }
    },
    {
      "cell_type": "markdown",
      "source": [
        "## Single Responsibility Principle (SRP)\n",
        "\n",
        "**Background**: The roots of SRP can be traced back to **Tom DeMarco** and **Meilir Page-Jones**, who discussed the concept of \"**cohesion**\" in software design in the 1970s and 1980s. Cohesion refers to how strongly related and focused the responsibilities of a module are.\n",
        "\n",
        "The term SRP was coined by Robert C. Martin (Uncle Bob) and is based on the idea that a class should have only one reason to change, meaning it should be responsible for one piece of functionality\n",
        "\n",
        "---\n",
        "\n",
        "**Definition**: Every module or class should have responsibility over a single part of the functionality provided by the software, and that responsibility should be entirely encapsulated by the class.\n",
        "\n",
        "**Example**: In this example, we apply the Single Responsibility Principle (SRP) by creating separate classes for each responsibility:\n",
        "\n",
        "`UserAuthentication` handles user authentication.\n",
        "`EmailService` is responsible for sending emails.\n",
        "`PaymentProcessor` manages payment processing.\n",
        "Each class encapsulates only one concern, making the system more modular, easier to maintain, and simpler to test."
      ],
      "metadata": {
        "id": "-CwryOBJz8xs"
      }
    },
    {
      "cell_type": "code",
      "source": [
        "# Example (SRP-compliant):\n",
        "\n",
        "class UserAuthentication:\n",
        "    \"\"\"Handles user authentication.\"\"\"\n",
        "    def login(self, username, password):\n",
        "        # Logic for authenticating user\n",
        "        print(f\"User {username} logged in successfully.\")\n",
        "        return True\n",
        "\n",
        "class EmailService:\n",
        "    \"\"\"Handles email sending.\"\"\"\n",
        "    def send_email(self, recipient, subject, body):\n",
        "        # Logic for sending email\n",
        "        print(f\"Email sent to {recipient} with subject: {subject}\")\n",
        "\n",
        "class PaymentProcessor:\n",
        "    \"\"\"Handles payment processing.\"\"\"\n",
        "    def process_payment(self, user, amount):\n",
        "        # Logic for processing payment\n",
        "        print(f\"Processed payment of ${amount} for {user}.\")\n"
      ],
      "metadata": {
        "id": "sSOA5jfH0SHe"
      },
      "execution_count": null,
      "outputs": []
    },
    {
      "cell_type": "markdown",
      "source": [
        "In this anti-pattern, the `UserManager` class violates SRP by handling:\n",
        "\n",
        "* User authentication\n",
        "* Sending emails\n",
        "* Processing payments\n",
        "\n",
        "By **mixing responsibilities**, the class becomes **tightly coupled**, making it difficult to modify or extend without breaking other functionality."
      ],
      "metadata": {
        "id": "lvjgUO0Q0aC8"
      }
    },
    {
      "cell_type": "code",
      "source": [
        "class UserManager:\n",
        "    \"\"\"Handles multiple responsibilities, violating SRP.\"\"\"\n",
        "    def login(self, username, password):\n",
        "        print(f\"User {username} logged in successfully.\")\n",
        "        return True\n",
        "\n",
        "    def send_email(self, recipient, subject, body):\n",
        "        print(f\"Email sent to {recipient} with subject: {subject}\")\n",
        "\n",
        "    def process_payment(self, user, amount):\n",
        "        print(f\"Processed payment of ${amount} for {user}.\")\n"
      ],
      "metadata": {
        "id": "f_5VrjMf0Wj4"
      },
      "execution_count": null,
      "outputs": []
    },
    {
      "cell_type": "markdown",
      "source": [
        "* Harder to maintain: If we need to modify the authentication process, we might accidentally break email or payment processing.\n",
        "* Difficult to test: Unit testing this class requires handling multiple unrelated functionalities.\n",
        "* Poor scalability: If we want to change the email service (e.g., switch to an external API), we would have to modify the entire class, leading to unnecessary dependencies."
      ],
      "metadata": {
        "id": "5LIfcXIX0nSE"
      }
    },
    {
      "cell_type": "markdown",
      "source": [
        "## Open/Closed Principle (OCP)\n",
        "\n",
        "**Background:** Introduced by Bertrand Meyer, a Swiss computer scientist, in 1988 in his book *Object-Oriented Software Construction*.\n",
        "\n",
        "Meyer stated:\n",
        "\n",
        "> “A module should be open for extension but closed for modification.”\n",
        "\n",
        "**Definition:** Software entities (classes, modules, functions, etc.) should be open for extension but closed for modification.\n",
        "\n",
        "This means that new functionality should be added by extending existing code, rather than modifying it.\n",
        "\n",
        "The key to adding new functionality without modifying existing code lies in **abstraction**, **inheritance**, and **composition**.\n",
        "\n",
        "This principle helps maintain code **stability**, preventing unintended side effects when new features are introduced."
      ],
      "metadata": {
        "id": "qAhEijn1IXq9"
      }
    },
    {
      "cell_type": "code",
      "source": [
        "from abc import ABC, abstractmethod\n",
        "\n",
        "# Abstract class defining a discount strategy (Open for extension)\n",
        "class DiscountStrategy(ABC):\n",
        "    @abstractmethod\n",
        "    def apply_discount(self, amount):\n",
        "        pass\n",
        "\n",
        "# Concrete discount strategies (New ones can be added without modifying existing code)\n",
        "class NoDiscount(DiscountStrategy):\n",
        "    def apply_discount(self, amount):\n",
        "        return amount\n",
        "\n",
        "class SeasonalDiscount(DiscountStrategy):\n",
        "    def apply_discount(self, amount):\n",
        "        return amount * 0.9  # 10% discount\n",
        "\n",
        "class BlackFridayDiscount(DiscountStrategy):\n",
        "    def apply_discount(self, amount):\n",
        "        return amount * 0.7  # 30% discount\n",
        "\n",
        "# Order class depends on DiscountStrategy, not specific discount implementations\n",
        "class Order:\n",
        "    def __init__(self, amount, discount_strategy: DiscountStrategy):\n",
        "        self.amount = amount\n",
        "        self.discount_strategy = discount_strategy\n",
        "\n",
        "    def get_total(self):\n",
        "        return self.discount_strategy.apply_discount(self.amount)\n",
        "\n",
        "# Usage\n",
        "order1 = Order(100, NoDiscount())\n",
        "order2 = Order(100, SeasonalDiscount())\n",
        "order3 = Order(100, BlackFridayDiscount())\n",
        "\n",
        "print(order1.get_total())  # 100 (No discount)\n",
        "print(order2.get_total())  # 90 (10% discount)\n",
        "print(order3.get_total())  # 70 (30% discount)"
      ],
      "metadata": {
        "colab": {
          "base_uri": "https://localhost:8080/"
        },
        "id": "1awyiwE_JFcO",
        "outputId": "e6b03ceb-c453-4a8f-cf49-913e9cce84c6"
      },
      "execution_count": null,
      "outputs": [
        {
          "output_type": "stream",
          "name": "stdout",
          "text": [
            "100\n",
            "90.0\n",
            "70.0\n"
          ]
        }
      ]
    },
    {
      "cell_type": "markdown",
      "source": [
        "**Benefits:**\n",
        "\n",
        "* Open for extension - We can add new discount types (e.g., `VIPDiscount`) without modifying existing classes.\n",
        "* Closed for modification - `Order` does not need to change when new discount strategies are introduced.\n",
        "* More flexible - The system can be extended dynamically by injecting different strategies."
      ],
      "metadata": {
        "id": "vvecTGK6JGe9"
      }
    },
    {
      "cell_type": "markdown",
      "source": [
        "Here, the `Order` class directly implements discount logic, requiring modifications each time a new discount type is introduced."
      ],
      "metadata": {
        "id": "PkkYst2OJVma"
      }
    },
    {
      "cell_type": "code",
      "source": [
        "class Order:\n",
        "    def __init__(self, amount, discount_type):\n",
        "        self.amount = amount\n",
        "        self.discount_type = discount_type\n",
        "\n",
        "    def get_total(self):\n",
        "        if self.discount_type == \"no_discount\":\n",
        "            return self.amount\n",
        "        elif self.discount_type == \"seasonal\":\n",
        "            return self.amount * 0.9  # 10% discount\n",
        "        elif self.discount_type == \"black_friday\":\n",
        "            return self.amount * 0.7  # 30% discount\n",
        "        else:\n",
        "            raise ValueError(\"Unknown discount type\")\n",
        "\n",
        "# Usage\n",
        "order1 = Order(100, \"no_discount\")\n",
        "order2 = Order(100, \"seasonal\")\n",
        "order3 = Order(100, \"black_friday\")\n",
        "\n",
        "print(order1.get_total())  # 100\n",
        "print(order2.get_total())  # 90\n",
        "print(order3.get_total())  # 70"
      ],
      "metadata": {
        "colab": {
          "base_uri": "https://localhost:8080/"
        },
        "id": "h0XvSJACJWRG",
        "outputId": "a29bba85-445f-458f-e898-4fd4520969d6"
      },
      "execution_count": null,
      "outputs": [
        {
          "output_type": "stream",
          "name": "stdout",
          "text": [
            "100\n",
            "90.0\n",
            "70.0\n"
          ]
        }
      ]
    },
    {
      "cell_type": "markdown",
      "source": [
        "* Modifications required for new features, Every time a new discount type is added, we must modify `get_total()`.\n",
        "* Increased risk of bugs - Adding a new condition could accidentally break existing logic.\n",
        "* Difficult to test and maintain - `Order` should focus on order-related tasks, not discount logic."
      ],
      "metadata": {
        "id": "LnphaFwrJcb-"
      }
    },
    {
      "cell_type": "markdown",
      "source": [
        "## Liskov Substitution Principle (LSP)\n",
        "\n",
        "**Background**: comes from Barbara Liskov, an American computer scientist, who introduced the concept in 1987 in her keynote speech at a conference on Data Abstraction and Hierarchy.\n",
        "\n",
        "\n",
        "> Barbara Liskov formulated this principle as part of her work on data abstraction and type theory, stating:\n",
        "> “*If for each object o1 of type S, there is an object o2 of type T such that for all programs P defined in terms of T, the behavior of P is unchanged when o1 is substituted for o2, then S is a subtype of T.*”\n",
        "\n",
        "> This means that subtypes must be replaceable for their base types without altering the correctness of the program.\n",
        "\n",
        "---\n",
        "\n",
        "**Definition**: Subtypes should be substitutable for their base types without altering the correctness of the program. This means that if a function expects a base type, it should be able to work with any subtype without unexpected behavior."
      ],
      "metadata": {
        "id": "vxxJpvqgWP8t"
      }
    },
    {
      "cell_type": "code",
      "source": [
        "from abc import ABC, abstractmethod\n",
        "\n",
        "class Document(ABC):\n",
        "    @abstractmethod\n",
        "    def open(self):\n",
        "        pass\n",
        "\n",
        "class SavableDocument(Document):\n",
        "    @abstractmethod\n",
        "    def save(self):\n",
        "        pass\n",
        "\n",
        "class ReadonlyDocument(Document):\n",
        "    def open(self):\n",
        "        print(\"Opening readonly document\")\n",
        "\n",
        "class WritableDocument(SavableDocument):\n",
        "    def open(self):\n",
        "        print(\"Opening writable document\")\n",
        "\n",
        "    def save(self):\n",
        "        print(\"Saving document\")\n",
        "\n",
        "# Client code\n",
        "def process_document(document: Document):\n",
        "    document.open()\n",
        "    # ... other document processing logic ...\n",
        "    if isinstance(document, SavableDocument): # if document is of type SavableDocument, it must have the save() method.\n",
        "        document.save()\n",
        "\n",
        "writable_doc = WritableDocument()\n",
        "process_document(writable_doc)  # This works fine\n",
        "\n",
        "readonly_doc = ReadonlyDocument()\n",
        "process_document(readonly_doc)  # This also works fine, the save operation would be ignored without raising errors"
      ],
      "metadata": {
        "id": "Vig6MOVyWS5G"
      },
      "execution_count": null,
      "outputs": []
    },
    {
      "cell_type": "markdown",
      "source": [
        "**Violation of LSP:**\n",
        "\n",
        "If the `ReadonlyDocument` class inherits the `save()` method from `Document` and throws an exception when it's called, it violates the LSP. This is because a client expecting a `Document` object (which should be able to be saved) would break if it encounters a `ReadonlyDocument` object\n",
        "\n",
        "**Solution (Adhering to LSP):**\n",
        "\n",
        "To adhere to the LSP, you could separate the saving capability into a different interface or abstract class, like `SavableDocument`. Only documents that can actually be saved (`Document`, `WritableDocument`) would implement this interface. The `ReadonlyDocument` class would not implement this interface, indicating its read-only nature."
      ],
      "metadata": {
        "id": "mqyCyJisWiGe"
      }
    },
    {
      "cell_type": "markdown",
      "source": [
        "## Interface Segregation Principle (ISP)\n",
        "**Background**: Robert C. Martin (Uncle Bob) formulated ISP in the early 2000s, particularly in his book *Agile Software Development: Principles, Patterns, and Practices*.\n",
        "\n",
        "The principle was introduced to address issues with large, bloated interfaces that force implementing classes to define methods they don't actually need.\n",
        "\n",
        "> “Clients should not be forced to depend on interfaces they do not use.”\n",
        "\n",
        "This means that instead of having one large interface that all classes must implement, it is better to **create multiple smaller, more specific interfaces** that clients only need to implement as required.\n",
        "\n",
        "**Definition**: The Interface Segregation Principle states that a class **should not be forced to implement interfaces it does not use**. Instead of having **large, general-purpose interfaces**, break them down into **smaller, specific interfaces**."
      ],
      "metadata": {
        "id": "T2w6qwOZ3nmO"
      }
    },
    {
      "cell_type": "markdown",
      "source": [
        "In this example, we design an **e-commerce payment system** where different payment methods have different capabilities:\n",
        "- **CreditCardProcessor** supports payments and refunds.\n",
        "- **CryptoProcessor** only supports payments (no refunds due to blockchain restrictions)."
      ],
      "metadata": {
        "id": "DCBJ1WDX4hNr"
      }
    },
    {
      "cell_type": "code",
      "source": [
        "from abc import ABC, abstractmethod\n",
        "\n",
        "# Segregated interfaces for different payment functionalities\n",
        "class PaymentProcessor(ABC):\n",
        "    @abstractmethod\n",
        "    def process_payment(self, amount):\n",
        "        pass\n",
        "\n",
        "class RefundProcessor(ABC):\n",
        "    @abstractmethod\n",
        "    def process_refund(self, amount):\n",
        "        pass\n",
        "\n",
        "# Credit Card supports both payments and refunds\n",
        "class CreditCardProcessor(PaymentProcessor, RefundProcessor):\n",
        "    def process_payment(self, amount):\n",
        "        print(f\"Processing credit card payment of ${amount}\")\n",
        "\n",
        "    def process_refund(self, amount):\n",
        "        print(f\"Processing credit card refund of ${amount}\")\n",
        "\n",
        "# Crypto payments support only payments (no refunds)\n",
        "class CryptoProcessor(PaymentProcessor):\n",
        "    def process_payment(self, amount):\n",
        "        print(f\"Processing crypto payment of ${amount}\")\n",
        "\n",
        "# Usage\n",
        "credit_card = CreditCardProcessor()\n",
        "crypto = CryptoProcessor()\n",
        "\n",
        "credit_card.process_payment(100)\n",
        "credit_card.process_refund(50)  # Works because CreditCardProcessor implements RefundProcessor\n",
        "\n",
        "crypto.process_payment(200)\n",
        "# crypto.process_refund(100)  # This would raise an error since CryptoProcessor does not implement RefundProcessor"
      ],
      "metadata": {
        "colab": {
          "base_uri": "https://localhost:8080/"
        },
        "id": "3jFogOPR4N0Y",
        "outputId": "e42eee3a-010a-46f5-d9c8-44f5d152918e"
      },
      "execution_count": null,
      "outputs": [
        {
          "output_type": "stream",
          "name": "stdout",
          "text": [
            "Processing credit card payment of $100\n",
            "Processing credit card refund of $50\n",
            "Processing crypto payment of $200\n"
          ]
        }
      ]
    },
    {
      "cell_type": "markdown",
      "source": [
        "**Benefits:**\n",
        "\n",
        "* Each class only implements relevant methods: `CryptoProcessor` does not need to implement `process_refund()`, because crypto payments typically do not allow refunds.\n",
        "* Prevents unnecessary dependencies: A future `BankTransferProcessor` could implement only the interfaces it needs, without being forced to support refunds or crypto-specific features.\n",
        "* Encapsulates functionality properly: `PaymentProcessor` handles payments, and `RefundProcessor` handles refunds, keeping concerns separate.\n",
        "\n",
        "All of this encourages modular, flexible design by keeping interfaces **focused and cohesive**.\n"
      ],
      "metadata": {
        "id": "RV7x630t3mrS"
      }
    },
    {
      "cell_type": "markdown",
      "source": [
        "Here, a single large `PaymentGateway` interface forces all payment processors to implement refund functionality, even if it's not applicable.\n",
        "\n",
        "Why This Violates ISP?\n",
        "* Forces unnecessary implementations: `CryptoProcessor` is required to implement `process_refund()`, even though it is not applicable.\n",
        "* Leads to runtime errors: The `NotImplementedError` is a code smell and indicates poor design.\n",
        "* Difficult to extend: If new payment methods (e.g., **Buy Now, Pay Later**) are added, they will need to conform to an interface that might not be relevant.\n"
      ],
      "metadata": {
        "id": "taZskoYB-8yJ"
      }
    },
    {
      "cell_type": "code",
      "source": [
        "class PaymentGateway:\n",
        "    def process_payment(self, amount):\n",
        "        print(f\"Processing payment of ${amount}\")\n",
        "\n",
        "    def process_refund(self, amount):\n",
        "        print(f\"Processing refund of ${amount}\")\n",
        "\n",
        "# Credit card processor works fine\n",
        "class CreditCardProcessor(PaymentGateway):\n",
        "    def process_payment(self, amount):\n",
        "        print(f\"Processing credit card payment of ${amount}\")\n",
        "\n",
        "    def process_refund(self, amount):\n",
        "        print(f\"Processing credit card refund of ${amount}\")\n",
        "\n",
        "# Crypto processor is forced to implement refund, even though it's not supported\n",
        "class CryptoProcessor(PaymentGateway):\n",
        "    def process_payment(self, amount):\n",
        "        print(f\"Processing crypto payment of ${amount}\")\n",
        "\n",
        "    def process_refund(self, amount):\n",
        "        raise NotImplementedError(\"Refunds not supported for crypto transactions\")\n",
        "\n",
        "# Usage\n",
        "credit_card = CreditCardProcessor()\n",
        "crypto = CryptoProcessor()\n",
        "\n",
        "credit_card.process_payment(100)\n",
        "credit_card.process_refund(50)  # Works as expected\n",
        "\n",
        "crypto.process_payment(200)\n",
        "crypto.process_refund(100)  # Raises an error: Refunds not supported"
      ],
      "metadata": {
        "collapsed": true,
        "id": "gS0MUqUJ-6ar"
      },
      "execution_count": null,
      "outputs": []
    },
    {
      "cell_type": "markdown",
      "source": [
        "## Dependency Inversion Principle (DIP)\n",
        "\n",
        "**Background**: The DIP was introduced by Robert C. Martin (Uncle Bob) in the 1990s, as part of the SOLID principles.\n",
        "\n",
        "In his 1996 paper *The Dependency Inversion Principle*, he described the need for software architectures that are flexible, maintainable, and loosely coupled, ensuring that high-level logic is not dictated by low-level implementation details.\n",
        "\n",
        "> “High-level modules should not depend on low-level modules. Both should depend on abstractions.”\n",
        "\n",
        "By \"inverting\" dependencies - that is reversing the traditional dependency direction, we make systems easier to extend and test, leading to better software design.\n",
        "\n",
        "To summarize:\n",
        "\n",
        "* High-level modules should not depend on low-level modules. Both should depend on abstractions.\n",
        "* Abstractions should not depend on details. Details should depend on abstractions.\n",
        "\n"
      ],
      "metadata": {
        "id": "by3UG3tv9CFe"
      }
    },
    {
      "cell_type": "markdown",
      "source": [
        "Imagine an *order processing system* where the `OrderService` depends on a `PaymentProcessor`.\n",
        "Instead of tightly coupling OrderService to a specific payment implementation (e.g., `PayPalProcessor`), we introduce an abstraction (`PaymentProcessor` interface)."
      ],
      "metadata": {
        "id": "vOdJ9CSR9wAT"
      }
    },
    {
      "cell_type": "code",
      "source": [
        "from abc import ABC, abstractmethod\n",
        "\n",
        "# Abstract Payment Processor Interface (Abstraction)\n",
        "class PaymentProcessor(ABC):\n",
        "    @abstractmethod\n",
        "    def process_payment(self, amount):\n",
        "        pass\n",
        "\n",
        "# Concrete implementation for PayPal\n",
        "class PayPalProcessor(PaymentProcessor):\n",
        "    def process_payment(self, amount):\n",
        "        print(f\"Processing PayPal payment of ${amount}\")\n",
        "\n",
        "# Concrete implementation for Stripe\n",
        "class StripeProcessor(PaymentProcessor):\n",
        "    def process_payment(self, amount):\n",
        "        print(f\"Processing Stripe payment of ${amount}\")\n",
        "\n",
        "# OrderService depends on abstraction, not concrete implementations\n",
        "class OrderService:\n",
        "    def __init__(self, payment_processor: PaymentProcessor):\n",
        "        self.payment_processor = payment_processor\n",
        "\n",
        "    def checkout(self, amount):\n",
        "        print(\"Checking out order...\")\n",
        "        self.payment_processor.process_payment(amount)\n",
        "\n",
        "# Usage\n",
        "paypal = PayPalProcessor()\n",
        "order1 = OrderService(paypal)\n",
        "order1.checkout(100)\n",
        "\n",
        "stripe = StripeProcessor()\n",
        "order2 = OrderService(stripe)\n",
        "order2.checkout(200)"
      ],
      "metadata": {
        "id": "O7dpHhDu9stP"
      },
      "execution_count": null,
      "outputs": []
    },
    {
      "cell_type": "markdown",
      "source": [
        "Here, `OrderService` is tightly coupled to `PayPalProcessor`.\n",
        "\n",
        "* If we want to switch to `StripeProcessor`, we must modify `OrderService`, violating `Open/Closed Principle` too.\n",
        "* We cannot easily introduce new payment methods without changing existing code.\n",
        "* Furthermore,  this is difficult to test, since we cannot easily mock or substitute a different payment method."
      ],
      "metadata": {
        "id": "DG72WgFX-WQX"
      }
    },
    {
      "cell_type": "code",
      "source": [
        "class PayPalProcessor:\n",
        "    def process_payment(self, amount):\n",
        "        print(f\"Processing PayPal payment of ${amount}\")\n",
        "\n",
        "class OrderService:\n",
        "    def __init__(self):\n",
        "        self.payment_processor = PayPalProcessor()  # Direct dependency on PayPal\n",
        "\n",
        "    def checkout(self, amount):\n",
        "        print(\"Checking out order...\")\n",
        "        self.payment_processor.process_payment(amount)\n",
        "\n",
        "# Usage\n",
        "order = OrderService()\n",
        "order.checkout(100)\n"
      ],
      "metadata": {
        "colab": {
          "base_uri": "https://localhost:8080/"
        },
        "id": "zGeffKmb-PsC",
        "outputId": "52c9fc53-a3a6-4fe8-d54b-0534b0847214"
      },
      "execution_count": null,
      "outputs": [
        {
          "output_type": "stream",
          "name": "stdout",
          "text": [
            "Checking out order...\n",
            "Processing PayPal payment of $100\n"
          ]
        }
      ]
    },
    {
      "cell_type": "markdown",
      "source": [
        "# Design Patterns\n",
        "\n"
      ],
      "metadata": {
        "id": "k71lAbiitFeH"
      }
    },
    {
      "cell_type": "markdown",
      "source": [
        "## Strategy Pattern"
      ],
      "metadata": {
        "id": "B4DyTTNAtb66"
      }
    },
    {
      "cell_type": "markdown",
      "source": [
        "### Definition\n",
        "\n",
        "The **Strategy** pattern is a behavioral design pattern because it focuses on how objects interact and **delegate** responsibilities *dynamically*. It enables an object's behavior to be selected at runtime by encapsulating algorithms in **separate** strategy classes and allowing them to be interchangeable.\n"
      ],
      "metadata": {
        "id": "VK8CEaGiKqsR"
      }
    },
    {
      "cell_type": "markdown",
      "source": [
        "![image.png](data:image/png;base64,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)"
      ],
      "metadata": {
        "id": "KU5RUZ7jN0-G"
      }
    },
    {
      "cell_type": "markdown",
      "source": [
        "1. The **Context** holds a reference to a specific Strategy and interacts with it exclusively through the strategy interface.\n",
        "2. The **Strategy** interface is shared among all concrete strategies and defines a method that the Context calls to execute a strategy.\n",
        "3. **Concrete Strategies** implement different variations of the algorithm that the Context relies on.\n",
        "4. Whenever the **Context** needs to execute the algorithm, it invokes the method on the assigned strategy object without knowing its exact type or implementation details.\n",
        "5. The **Client** instantiates a specific strategy and assigns it to the Context. The **Context** provides a setter method, allowing the client to switch strategies dynamically at runtime."
      ],
      "metadata": {
        "id": "AOdGoioSOE4N"
      }
    },
    {
      "cell_type": "markdown",
      "source": [
        "### Tips\n",
        "\n",
        "Use the pattern:\n",
        "* When you have a lot of similar classes that\n",
        "only differ in the way they execute some behavior.\n",
        "* To isolate the business logic of a class from\n",
        "the implementation details of algorithms that may not be as\n",
        "important in the context of that logic.\n",
        "* When your class has a massive conditional\n",
        "operator that switches between different variants of the same\n",
        "algorithm."
      ],
      "metadata": {
        "id": "JVAjCU65N6Mc"
      }
    },
    {
      "cell_type": "markdown",
      "source": [
        "### Pros & Cons\n",
        "\n",
        "* You can swap algorithms used inside an object at runtime, e.g. switching behavior at run-time without modifying code.\n",
        "* *Open/Closed Principle*. You can introduce new strategies with-\n",
        "out having to change the context.\n",
        "* You can replace inheritance with composition.\n",
        "* If you only have a couple of algorithms and they rarely change,\n",
        "there's no real reason to overcomplicate the program with new\n",
        "classes and interfaces that come along with the pattern."
      ],
      "metadata": {
        "id": "BuzOcRYvO4Wh"
      }
    },
    {
      "cell_type": "markdown",
      "source": [
        "### Thoughts\n",
        "\n",
        "* The `Decorator` pattern lets you change the skin of an object, while `Strategy`\n",
        "lets you change the guts.\n",
        "* The `State` pattern can be seen as an extension of the `Strategy` pattern. Both rely on composition, modifying a context's behavior by delegating tasks to helper objects. However, while `Strategy` ensures complete independence between its variations, `State` allows concrete states to be aware of and influence each other, enabling dynamic transitions within the context"
      ],
      "metadata": {
        "id": "fLgZ2ujOO8Om"
      }
    },
    {
      "cell_type": "markdown",
      "source": [
        "### Code Example\n",
        "\n",
        "#### **Stochastic Gradient Descent (SGD)**\n",
        "\n",
        "SGD updates the weights (Θ) using the gradient \\( ∇ J(Θ) \\) of the loss function \\( J \\):\n",
        "\n",
        "$$\n",
        "\\theta_{t+1} = \\theta_t - \\eta \\cdot \\nabla J(\\theta_t)\n",
        "$$\n",
        "\n",
        "#### **Root Mean Square Propagation (RMSprop)**\n",
        "\n",
        "RMSprop maintains a moving average of squared gradients:\n",
        "\n",
        "$$\n",
        "v_t = \\beta v_{t-1} + (1 - \\beta) (\\nabla J(\\theta_t))^2\n",
        "$$\n",
        "\n",
        "$$\n",
        "\\theta_{t+1} = \\theta_t - \\frac{\\eta}{\\sqrt{v_t + \\epsilon}} \\cdot \\nabla J(\\theta_t)\n",
        "$$\n",
        "\n",
        "####  **Adaptive Moment Estimation (Adam)**\n",
        "\n",
        "Adam combines **SGD** and **RMSprop**."
      ],
      "metadata": {
        "id": "3at8pB1LO_1b"
      }
    },
    {
      "cell_type": "code",
      "source": [
        "import torch\n",
        "import torch.nn as nn\n",
        "import torch.optim as optim\n",
        "from torch.utils.data import DataLoader, TensorDataset\n",
        "\n",
        "# Strategy Interface\n",
        "class OptimizerStrategy:\n",
        "    def get_optimizer(self, model):\n",
        "        raise NotImplementedError(\"Subclasses must implement get_optimizer\")\n",
        "\n",
        "# Concrete Strategies\n",
        "class SGDStrategy(OptimizerStrategy):\n",
        "    def get_optimizer(self, model):\n",
        "        return optim.SGD(model.parameters(), lr=0.01)\n",
        "\n",
        "class AdamStrategy(OptimizerStrategy):\n",
        "    def get_optimizer(self, model):\n",
        "        return optim.Adam(model.parameters(), lr=0.001)\n",
        "\n",
        "class RMSpropStrategy(OptimizerStrategy):\n",
        "    def get_optimizer(self, model):\n",
        "        return optim.RMSprop(model.parameters(), lr=0.001)\n",
        "\n",
        "# A Simple Neural Network\n",
        "class SimpleNN(nn.Module):\n",
        "    def __init__(self, input_size, output_size):\n",
        "        super(SimpleNN, self).__init__()\n",
        "        self.fc = nn.Linear(input_size, output_size)\n",
        "\n",
        "    def forward(self, x):\n",
        "        return self.fc(x)\n",
        "\n",
        "# Context (Trainer)\n",
        "class Trainer:\n",
        "    def __init__(self, optimizer_strategy: OptimizerStrategy):\n",
        "        self.optimizer_strategy = optimizer_strategy\n",
        "\n",
        "    def train(self, model, train_loader, epochs=5):\n",
        "        criterion = nn.MSELoss()\n",
        "        optimizer = self.optimizer_strategy.get_optimizer(model)\n",
        "\n",
        "        for epoch in range(epochs):\n",
        "            total_loss = 0\n",
        "            for inputs, targets in train_loader:\n",
        "                optimizer.zero_grad()\n",
        "                outputs = model(inputs)\n",
        "                loss = criterion(outputs, targets)\n",
        "                loss.backward()\n",
        "                optimizer.step()\n",
        "                total_loss += loss.item()\n",
        "\n",
        "            print(f\"Epoch {epoch+1}, Loss: {total_loss:.4f}\")\n",
        "\n",
        "# Dummy Dataset\n",
        "X = torch.rand(100, 1)  # 100 samples, 1 feature\n",
        "Y = 2 * X + 1 + 0.1 * torch.randn(100, 1)  # Linear relation with noise\n",
        "\n",
        "dataset = TensorDataset(X, Y)\n",
        "train_loader = DataLoader(dataset, batch_size=10, shuffle=True)\n",
        "\n",
        "# Testing different strategies\n",
        "model = SimpleNN(input_size=1, output_size=1)\n",
        "\n",
        "print(\"Training with SGD:\")\n",
        "sgd_trainer = Trainer(SGDStrategy())\n",
        "sgd_trainer.train(model, train_loader)\n",
        "\n",
        "print(\"\\nTraining with Adam:\")\n",
        "adam_trainer = Trainer(AdamStrategy())\n",
        "adam_trainer.train(model, train_loader)\n",
        "\n",
        "print(\"\\nTraining with RMSprop:\")\n",
        "rmsprop_trainer = Trainer(RMSpropStrategy())\n",
        "rmsprop_trainer.train(model, train_loader)\n"
      ],
      "metadata": {
        "colab": {
          "base_uri": "https://localhost:8080/"
        },
        "id": "BtSNImBPKbaX",
        "outputId": "ce20e145-f9cc-4d32-f4b0-b543c91cad50"
      },
      "execution_count": null,
      "outputs": [
        {
          "output_type": "stream",
          "name": "stdout",
          "text": [
            "Training with SGD:\n",
            "Epoch 1, Loss: 26.5735\n",
            "Epoch 2, Loss: 17.0612\n",
            "Epoch 3, Loss: 11.3617\n",
            "Epoch 4, Loss: 7.9397\n",
            "Epoch 5, Loss: 5.8759\n",
            "\n",
            "Training with Adam:\n",
            "Epoch 1, Loss: 5.0168\n",
            "Epoch 2, Loss: 4.8701\n",
            "Epoch 3, Loss: 4.7455\n",
            "Epoch 4, Loss: 4.6141\n",
            "Epoch 5, Loss: 4.4828\n",
            "\n",
            "Training with RMSprop:\n",
            "Epoch 1, Loss: 4.1151\n",
            "Epoch 2, Loss: 3.7759\n",
            "Epoch 3, Loss: 3.5908\n",
            "Epoch 4, Loss: 3.4516\n",
            "Epoch 5, Loss: 3.3471\n"
          ]
        }
      ]
    },
    {
      "cell_type": "markdown",
      "source": [
        "**Inner Loop Explanation:**\n",
        " through mini-batches of training data:\n",
        "\n",
        " ```python\n",
        " for inputs, targets in train_loader:\n",
        " ...\n",
        " ```\n",
        "* Reset gradients.\n",
        "* Perform forward pass (compute predictions).\n",
        "* Compute loss.\n",
        "* Perform backward pass (compute gradients).\n",
        "* Update model parameters using optimizer."
      ],
      "metadata": {
        "id": "QyRhPb0Dhyk0"
      }
    },
    {
      "cell_type": "markdown",
      "source": [
        "## Decorator Pattern (AKA Wrapper)\n",
        "\n",
        "\n",
        "\n"
      ],
      "metadata": {
        "id": "9pysnJH15VLZ"
      }
    },
    {
      "cell_type": "markdown",
      "source": [
        "### Definition\n",
        "\n",
        "Decorator is a *structural* design pattern when you need to dynamically extend the functionality of objects at runtime without modifying their underlying structure. It provides an alternative to subclassing by allowing behavior to be added flexibly through composition.\n",
        "\n",
        "* You want to add responsibilities to individual objects rather than an entire class.\n",
        "* You need to add or modify functionality dynamically at runtime.\n",
        "* You want to keep your class structure open for extension but closed for modification (following the **Open/Closed** Principle from **SOLID**)."
      ],
      "metadata": {
        "id": "zOSmCNypcPqG"
      }
    },
    {
      "cell_type": "markdown",
      "source": [
        "### Tips\n",
        "\n",
        "* Use the pattern when it's awkward or not possible to extend\n",
        "an object's behavior using inheritance\n",
        "* When you need to be able to assign\n",
        "extra behaviors to objects at runtime without breaking the\n",
        "code that uses these objects."
      ],
      "metadata": {
        "id": "8nzCw_IJcXWM"
      }
    },
    {
      "cell_type": "markdown",
      "source": [
        "### Pros & Cons\n",
        "\n",
        "* Decorator enhances an object without changing its interface\n",
        "* You can add or remove responsibilities from an object at\n",
        "runtime.\n",
        "* *Open/Closed Principle*: You can introduce new types of products\n",
        "into the program without breaking existing client code\n",
        "* *Single Responsibility Principle*: You can divide a monolithic class\n",
        "that implements many possible variants of behavior into several smaller classes.\n",
        "* The order of executing the decorators matters, which may not be suitable, in case of mutating values.\n",
        "\n"
      ],
      "metadata": {
        "id": "qg6IWY8PcqCS"
      }
    },
    {
      "cell_type": "markdown",
      "source": [
        "### Code Example\n",
        "\n",
        "Here we define a basic PyTorch model (MLP) for binary classification.\n",
        "\n",
        "We use the Decorator Pattern to:\n",
        "* Time the training process (`TimerDecorator`).\n",
        "* Apply input normalization (`NormalizerDecorator`).\n",
        "\n",
        "This achieves extending functionality without modifying the original model class. The model class remains focused on neural network functionality, while decorators handle logging and preprocessing."
      ],
      "metadata": {
        "id": "9JHcMYFVb4R0"
      }
    },
    {
      "cell_type": "code",
      "execution_count": null,
      "metadata": {
        "id": "nW_E5y4Fs4u-",
        "colab": {
          "base_uri": "https://localhost:8080/"
        },
        "outputId": "1251c2a6-2a11-41f7-8131-649b0cc81dbd"
      },
      "outputs": [
        {
          "output_type": "stream",
          "name": "stdout",
          "text": [
            "Epoch [1/20], Loss: 0.7340\n",
            "Epoch [6/20], Loss: 0.6958\n",
            "Epoch [11/20], Loss: 0.6781\n",
            "Epoch [16/20], Loss: 0.6661\n",
            "Training complete.\n",
            "Training time: 6.5053 seconds\n",
            "Predictions: [[1.]\n",
            " [0.]\n",
            " [1.]\n",
            " [1.]\n",
            " [0.]]\n"
          ]
        }
      ],
      "source": [
        "import time\n",
        "import torch\n",
        "import torch.nn as nn\n",
        "import torch.optim as optim\n",
        "from sklearn.preprocessing import StandardScaler\n",
        "import numpy as np\n",
        "\n",
        "# Define a simple PyTorch model (MLP)\n",
        "class MLPModel(nn.Module):\n",
        "    def __init__(self, input_dim):\n",
        "        super(MLPModel, self).__init__()\n",
        "        self.fc1 = nn.Linear(input_dim, 16)\n",
        "        self.fc2 = nn.Linear(16, 8)\n",
        "        self.fc3 = nn.Linear(8, 1)\n",
        "        self.activation = nn.ReLU()\n",
        "        self.output_activation = nn.Sigmoid()\n",
        "\n",
        "    def forward(self, x):\n",
        "        x = self.activation(self.fc1(x))\n",
        "        x = self.activation(self.fc2(x))\n",
        "        x = self.output_activation(self.fc3(x))\n",
        "        return x\n",
        "\n",
        "    def train_model(self, X, y, epochs=10, lr=0.01):\n",
        "        \"\"\"Train the model using binary cross-entropy loss.\"\"\"\n",
        "        criterion = nn.BCELoss()\n",
        "        optimizer = optim.Adam(self.parameters(), lr=lr)\n",
        "\n",
        "        for epoch in range(epochs):\n",
        "            optimizer.zero_grad()\n",
        "            outputs = self.forward(X)\n",
        "            loss = criterion(outputs, y)\n",
        "            loss.backward()\n",
        "            optimizer.step()\n",
        "\n",
        "            if epoch % 5 == 0:\n",
        "                print(f\"Epoch [{epoch+1}/{epochs}], Loss: {loss.item():.4f}\")\n",
        "\n",
        "        print(\"Training complete.\")\n",
        "\n",
        "    def predict(self, X):\n",
        "        \"\"\"Make predictions.\"\"\"\n",
        "        with torch.no_grad():\n",
        "            outputs = self.forward(X)\n",
        "            return (outputs > 0.5).float()\n",
        "\n",
        "# Decorator for measuring training time\n",
        "class TimerDecorator:\n",
        "    def __init__(self, model):\n",
        "        self.model = model\n",
        "\n",
        "    def train_model(self, X, y, epochs=10, lr=0.01):\n",
        "        start_time = time.time()\n",
        "        self.model.train_model(X, y, epochs, lr)\n",
        "        end_time = time.time()\n",
        "        print(f\"Training time: {end_time - start_time:.4f} seconds\")\n",
        "\n",
        "    def predict(self, X):\n",
        "        return self.model.predict(X)\n",
        "\n",
        "# Decorator for normalizing input data\n",
        "class NormalizerDecorator:\n",
        "    def __init__(self, model):\n",
        "        self.model = model\n",
        "        self.scaler = StandardScaler()\n",
        "\n",
        "    def train_model(self, X, y, epochs=10, lr=0.01):\n",
        "        X_np = X.numpy()  # Convert tensor to NumPy for scaling\n",
        "        X_scaled = self.scaler.fit_transform(X_np)\n",
        "        X_scaled_tensor = torch.tensor(X_scaled, dtype=torch.float32)\n",
        "        self.model.train_model(X_scaled_tensor, y, epochs, lr)\n",
        "\n",
        "    def predict(self, X):\n",
        "        X_np = X.numpy()\n",
        "        X_scaled = self.scaler.transform(X_np)\n",
        "        X_scaled_tensor = torch.tensor(X_scaled, dtype=torch.float32)\n",
        "        return self.model.predict(X_scaled_tensor)\n",
        "\n",
        "# Generate synthetic dataset\n",
        "np.random.seed(42)\n",
        "X = np.random.rand(100, 3).astype(np.float32)  # 100 samples, 3 features\n",
        "y = np.random.randint(0, 2, (100, 1)).astype(np.float32)  # Binary labels\n",
        "\n",
        "# Convert to PyTorch tensors\n",
        "X_tensor = torch.tensor(X, dtype=torch.float32)\n",
        "y_tensor = torch.tensor(y, dtype=torch.float32)\n",
        "\n",
        "# Instantiate the base model\n",
        "base_model = MLPModel(input_dim=3)\n",
        "\n",
        "# Apply decorators\n",
        "normalized_model = NormalizerDecorator(base_model)  # Normalize input data\n",
        "timed_normalized_model = TimerDecorator(normalized_model)  # Log training time\n",
        "\n",
        "# Train and predict using the decorated model\n",
        "timed_normalized_model.train_model(X_tensor, y_tensor, epochs=20, lr=0.01)\n",
        "predictions = timed_normalized_model.predict(X_tensor[:5])\n",
        "\n",
        "# Display predictions\n",
        "print(\"Predictions:\", predictions.numpy())\n"
      ]
    },
    {
      "cell_type": "markdown",
      "source": [
        "## Factory Pattern"
      ],
      "metadata": {
        "id": "9aXRZ6jaSpXj"
      }
    },
    {
      "cell_type": "markdown",
      "source": [
        "### Definition\n",
        "\n",
        "Factory is a *creational* design pattern, useful when you need to create objects without specifying their exact class. It provides a **centralized** creation logic, allowing you to instantiate objects dynamically while keeping code clean, scalable, and maintainable."
      ],
      "metadata": {
        "id": "DH7dVgBAeSyz"
      }
    },
    {
      "cell_type": "markdown",
      "source": [
        "### Tips\n",
        "\n",
        "* When you want a central place for object creation, and instantiate them dynamically\n",
        "* Use the Factory when you don't know beforehand the\n",
        "exact types and dependencies of the objects your code should\n",
        "work with."
      ],
      "metadata": {
        "id": "9e70nv2pfp7y"
      }
    },
    {
      "cell_type": "markdown",
      "source": [
        "### Thoughts\n",
        "\n",
        "* `Strategy` uses different classes implementing a common interface (polymorphism), and `Factory` uses a factory method to instantiate an object (usually from a predefined set of classes).\n",
        "  * For example: (`OptimizerStrategy` interface) to allow different optimizer strategies.\n",
        "* `Factory` encapsulates object creation and `Strategy` encapsulates behavior"
      ],
      "metadata": {
        "id": "AjF77li1fHUR"
      }
    },
    {
      "cell_type": "markdown",
      "source": [
        "### Code Example\n",
        "\n",
        "* Factory Pattern → To instantiate different optimizer strategies.\n",
        "* Strategy Pattern → To switch optimizer behavior dynamically during training."
      ],
      "metadata": {
        "id": "X82BNzL9gSnR"
      }
    },
    {
      "cell_type": "code",
      "source": [
        "import torch\n",
        "import torch.nn as nn\n",
        "import torch.optim as optim\n",
        "\n",
        "# Step 1: Strategy Pattern - Define the Optimizer Strategy Interface\n",
        "class OptimizerStrategy:\n",
        "    \"\"\"Base strategy interface for optimizers.\"\"\"\n",
        "    def get_optimizer(self, model, lr):\n",
        "        raise NotImplementedError(\"Subclass must implement `get_optimizer` method.\")\n",
        "\n",
        "# Step 2: Concrete Strategies - Different Optimizer Implementations\n",
        "class SGDOptimizer(OptimizerStrategy):\n",
        "    def get_optimizer(self, model, lr):\n",
        "        return optim.SGD(model.parameters(), lr=lr)\n",
        "\n",
        "class AdamOptimizer(OptimizerStrategy):\n",
        "    def get_optimizer(self, model, lr):\n",
        "        return optim.Adam(model.parameters(), lr=lr)\n",
        "\n",
        "class RMSpropOptimizer(OptimizerStrategy):\n",
        "    def get_optimizer(self, model, lr):\n",
        "        return optim.RMSprop(model.parameters(), lr=lr)\n",
        "\n",
        "# Step 3: Factory Pattern - Creates Optimizer Strategies Dynamically\n",
        "class OptimizerFactory:\n",
        "    \"\"\"Factory to instantiate the correct optimizer strategy.\"\"\"\n",
        "    @staticmethod\n",
        "    def create_optimizer(strategy_type):\n",
        "        if strategy_type == \"sgd\":\n",
        "            return SGDOptimizer()\n",
        "        elif strategy_type == \"adam\":\n",
        "            return AdamOptimizer()\n",
        "        elif strategy_type == \"rmsprop\":\n",
        "            return RMSpropOptimizer()\n",
        "        else:\n",
        "            raise ValueError(f\"Unsupported optimizer type: {strategy_type}\")\n",
        "\n",
        "# Step 4: Model Trainer (Uses Strategy Pattern)\n",
        "class ModelTrainer:\n",
        "    def __init__(self, model, optimizer_strategy, lr=0.01):\n",
        "        self.model = model\n",
        "        self.optimizer_strategy = optimizer_strategy\n",
        "        self.lr = lr\n",
        "        self.optimizer = self.optimizer_strategy.get_optimizer(model, lr)\n",
        "        self.criterion = nn.BCELoss()\n",
        "\n",
        "    def train(self, epochs=5):\n",
        "        for epoch in range(epochs):\n",
        "            self.optimizer.zero_grad()\n",
        "            inputs = torch.rand(10, 10)\n",
        "            labels = torch.randint(0, 2, (10, 1), dtype=torch.float32)\n",
        "\n",
        "            outputs = self.model(inputs)\n",
        "            loss = self.criterion(outputs, labels)\n",
        "            loss.backward()\n",
        "            self.optimizer.step()\n",
        "\n",
        "            print(f\"Epoch [{epoch+1}/{epochs}], Loss: {loss.item():.4f}\")\n",
        "\n",
        "    def change_optimizer(self, new_strategy):\n",
        "        \"\"\"Dynamically switch optimizer strategy at runtime.\"\"\"\n",
        "        print(f\"\\nSwitching to {new_strategy.__class__.__name__} optimizer...\\n\")\n",
        "        self.optimizer_strategy = new_strategy\n",
        "        self.optimizer = self.optimizer_strategy.get_optimizer(self.model, self.lr)\n",
        "\n",
        "# Step 5: Define a simple PyTorch Model\n",
        "class MLPModel(nn.Module):\n",
        "    def __init__(self, input_dim=10, hidden_dim=16):\n",
        "        super(MLPModel, self).__init__()\n",
        "        self.fc1 = nn.Linear(input_dim, hidden_dim)\n",
        "        self.fc2 = nn.Linear(hidden_dim, 1)\n",
        "        self.activation = nn.ReLU()\n",
        "        self.output_activation = nn.Sigmoid()\n",
        "\n",
        "    def forward(self, x):\n",
        "        x = self.activation(self.fc1(x))\n",
        "        x = self.output_activation(self.fc2(x))\n",
        "        return x\n",
        "\n",
        "# Step 6: Example Usage\n",
        "if __name__ == \"__main__\":\n",
        "    model = MLPModel(input_dim=10)\n",
        "\n",
        "    # Create optimizer dynamically using Factory Pattern\n",
        "    optimizer_strategy = OptimizerFactory.create_optimizer(\"adam\")  # Can be \"sgd\" or \"rmsprop\"\n",
        "\n",
        "    # Train with initial optimizer\n",
        "    trainer = ModelTrainer(model, optimizer_strategy, lr=0.01)\n",
        "    trainer.train()\n",
        "\n",
        "    # Change optimizer at runtime using Strategy Pattern\n",
        "    new_optimizer_strategy = OptimizerFactory.create_optimizer(\"sgd\")\n",
        "    trainer.change_optimizer(new_optimizer_strategy)\n",
        "    trainer.train()"
      ],
      "metadata": {
        "colab": {
          "base_uri": "https://localhost:8080/"
        },
        "id": "rL_T-QrggUcv",
        "outputId": "e9d78e0b-4e76-41f8-d86f-5bd13e65cbdc"
      },
      "execution_count": null,
      "outputs": [
        {
          "output_type": "stream",
          "name": "stdout",
          "text": [
            "Epoch [1/5], Loss: 0.6791\n",
            "Epoch [2/5], Loss: 0.6740\n",
            "Epoch [3/5], Loss: 0.7343\n",
            "Epoch [4/5], Loss: 0.7310\n",
            "Epoch [5/5], Loss: 0.6677\n",
            "\n",
            "Switching to SGDOptimizer optimizer...\n",
            "\n",
            "Epoch [1/5], Loss: 0.7344\n",
            "Epoch [2/5], Loss: 0.6515\n",
            "Epoch [3/5], Loss: 0.7231\n",
            "Epoch [4/5], Loss: 0.7485\n",
            "Epoch [5/5], Loss: 0.6515\n"
          ]
        }
      ]
    },
    {
      "cell_type": "code",
      "source": [],
      "metadata": {
        "id": "DjGAE_DCgVX0"
      },
      "execution_count": null,
      "outputs": []
    },
    {
      "cell_type": "markdown",
      "source": [
        "# Testing\n",
        "\n",
        "\n",
        "## Resources\n",
        "\n",
        "*  A High Level Overview on Unit Testing vs Integration Testing\n",
        "   * https://birdeatsbug.com/blog/unit-testing-vs-integration-testing\n",
        "* A great article, which resonates with my experience, so far in my career\n",
        "   * http://hamidmosalla.com/2020/05/30/the-right-balance-between-different-types-of-test/\n",
        "* pytest, probably the only framework you'll need for testing anything in Python - https://docs.pytest.org/en/stable/\n",
        "\n",
        "\n"
      ],
      "metadata": {
        "id": "HjxPVfMxjj2P"
      }
    },
    {
      "cell_type": "markdown",
      "source": [
        "## Getting started with PyTest\n",
        "\n"
      ],
      "metadata": {
        "id": "WFzWZrYo5y3h"
      }
    },
    {
      "cell_type": "markdown",
      "source": [
        "### Introduction\n",
        "\n",
        "Imagine we had a directory structure for a project like this, for our ML project.\n",
        "\n",
        "A general approach is keep your production code and tests in separate directories, with a `conftest.py` in the tests folder for shared pytest configuration.\n",
        "\n",
        "```bash\n",
        "my_ml_project/\n",
        "│\n",
        "├── ml_code.py         # Your ML methods/classes\n",
        "└── tests/\n",
        "    └── conftest.py   # Shared pytest fixtures/config for the project\n",
        "    └── test_ml.py     # Your test functions\n",
        "```"
      ],
      "metadata": {
        "id": "MsCwmCDy6Dqr"
      }
    },
    {
      "cell_type": "markdown",
      "source": [
        "### Code Example\n",
        "\n",
        "Let's create a simple ML script (`ml_code.py`) that does the following:\n",
        "\n",
        "* Generates random data.\n",
        "* Trains a basic linear regression model using scikit-learn.\n",
        "* Evaluates the model."
      ],
      "metadata": {
        "id": "d8IADAsP6skF"
      }
    },
    {
      "cell_type": "code",
      "source": [
        "# ml_code.py\n",
        "\n",
        "import numpy as np\n",
        "from sklearn.linear_model import LinearRegression\n",
        "from sklearn.metrics import mean_squared_error\n",
        "\n",
        "def generate_data(num_samples=100, seed=42):\n",
        "    \"\"\"\n",
        "    Generates synthetic features X and targets y.\n",
        "    \"\"\"\n",
        "    np.random.seed(seed)\n",
        "    X = np.random.rand(num_samples, 1) * 10  # Features\n",
        "    y = 3 * X.squeeze() + 4 + np.random.randn(num_samples) * 2  # y = 3X + 4 + noise\n",
        "    return X, y\n",
        "\n",
        "def train_model(X, y):\n",
        "    \"\"\"\n",
        "    Trains a linear regression model on data (X, y).\n",
        "    Returns the trained model.\n",
        "    \"\"\"\n",
        "    model = LinearRegression()\n",
        "    model.fit(X, y)\n",
        "    return model\n",
        "\n",
        "def evaluate_model(model, X_test, y_test):\n",
        "    \"\"\"\n",
        "    Evaluates a model on test data and returns MSE.\n",
        "    \"\"\"\n",
        "    predictions = model.predict(X_test)\n",
        "    mse = mean_squared_error(y_test, predictions)\n",
        "    return mse\n"
      ],
      "metadata": {
        "id": "9LGJlo7U1Ji9"
      },
      "execution_count": null,
      "outputs": []
    },
    {
      "cell_type": "markdown",
      "source": [
        "### What is conftest.py?\n",
        "\n",
        "`conftest.py` is a special file recognized by pytest. Any fixtures declared in it become available to all test files in the same directory (and below)."
      ],
      "metadata": {
        "id": "mCoNk_dE67FX"
      }
    },
    {
      "cell_type": "markdown",
      "source": [
        "### Fixtures and Conftest\n",
        "\n",
        "A **fixture** in pytest is a reusable function that provides test data, resources, or setup/teardown logic for multiple test cases. Fixtures help keep tests clean, modular, and efficient by managing dependencies, preparing test environments, and ensuring reusability.\n",
        "\n",
        "Some key notes:\n",
        "* Fixtures can be scoped, such that they can be session-wide, module-wide, class-wide, or function-wide.\n",
        "* Test functions can request fixtures without explicitly calling them, utilizing the Dependency Injection pattern.\n",
        "\n",
        "Here's an example: we create two fixtures - one for synthetic data (synthetic_data) and another for a newly trained model (trained_model) that depends on the first fixture."
      ],
      "metadata": {
        "id": "T3k1aWBc7Gol"
      }
    },
    {
      "cell_type": "code",
      "source": [
        "# conftest.py\n",
        "\n",
        "import pytest\n",
        "from httpx import AsyncClient\n",
        "# from ml_code import generate_data, train_model <-- imagine this being imported here. 😊\n",
        "# from app.main import app\n",
        "\n",
        "@pytest.fixture(scope=\"session\")\n",
        "def synthetic_data():\n",
        "    \"\"\"\n",
        "    This fixture generates synthetic data once per test session,\n",
        "    so all tests can share the same data if needed.\n",
        "    \"\"\"\n",
        "    X, y = generate_data(num_samples=200, seed=123)\n",
        "    return X, y\n",
        "\n",
        "@pytest.fixture(scope=\"function\")\n",
        "def trained_model(synthetic_data):\n",
        "    \"\"\"\n",
        "    This fixture creates a fresh model for each test function.\n",
        "    \"\"\"\n",
        "    X, y = synthetic_data\n",
        "    model = train_model(X, y)\n",
        "    return model\n",
        "\n",
        "# Fixtures can setup resources before a test and cleanup after a test using `yield`\n",
        "@pytest.fixture\n",
        "def temp_file(tmp_path):\n",
        "    \"\"\"Creates a temporary file and deletes it after the test.\"\"\"\n",
        "    file = tmp_path / \"testfile.txt\"\n",
        "    file.write_text(\"Hello, Pytest!\")\n",
        "    yield file  # The test runs here\n",
        "    print(f\"Cleaning up {file}\")  # This runs after the test\n",
        "\n",
        "\n",
        "@pytest.fixture\n",
        "def db_connection():\n",
        "    \"\"\"Simulates a database connection.\"\"\"\n",
        "    conn = {\"status\": \"connected\"}\n",
        "    yield conn\n",
        "    conn[\"status\"] = \"disconnected\"  # Cleanup\n",
        "\n",
        "\n",
        "\n",
        "@pytest.fixture(scope=\"module\")\n",
        "async def test_client():\n",
        "    \"\"\"\n",
        "    Creates an Async HTTP client for FastAPI testing.\n",
        "    \"\"\"\n",
        "    async with AsyncClient(app=app, base_url=\"http://testserver\") as client:\n",
        "        yield client"
      ],
      "metadata": {
        "id": "SsR-KgrD63jQ"
      },
      "execution_count": null,
      "outputs": []
    },
    {
      "cell_type": "markdown",
      "source": [
        "* `scope=\"session\"`: The fixture is created once for the entire test session. Useful if generating or loading large datasets so you only do it once.\n",
        "* `scope=\"function\"`: A fresh fixture is created for each test function that needs it. Great if your tests need isolation."
      ],
      "metadata": {
        "id": "68mrPJy77U3U"
      }
    },
    {
      "cell_type": "markdown",
      "source": [
        "### Code Example (Unit Tests)"
      ],
      "metadata": {
        "id": "ZaIKsVJV8cxw"
      }
    },
    {
      "cell_type": "code",
      "source": [
        "# tests/test_ml.py\n",
        "\n",
        "import numpy as np\n",
        "import pytest\n",
        "#from ml_code import generate_data, train_model, evaluate_model <-- imagine this being imported here. 😊\n",
        "\n",
        "@pytest.mark.order(\"first\")\n",
        "def test_data_generation():\n",
        "    \"\"\"\n",
        "    Basic test to ensure generate_data returns correct shapes.\n",
        "    \"\"\"\n",
        "    X, y = generate_data(num_samples=50, seed=0)\n",
        "    assert X.shape == (50, 1)\n",
        "    assert len(y) == 50\n",
        "\n",
        "@pytest.mark.order(\"second\")\n",
        "@pytest.mark.parametrize(\"seed\", [0, 42, 123])\n",
        "def test_data_different_seeds(seed):\n",
        "    \"\"\"\n",
        "    Check that data changes when using different random seeds.\n",
        "    \"\"\"\n",
        "    X1, y1 = generate_data(num_samples=10, seed=seed)\n",
        "    X2, y2 = generate_data(num_samples=10, seed=seed + 1)\n",
        "\n",
        "    # We expect different seeds to produce different data\n",
        "    assert not np.array_equal(X1, X2), \"X should differ with different seeds.\"\n",
        "    assert not np.array_equal(y1, y2), \"y should differ with different seeds.\"\n",
        "\n",
        "@pytest.mark.order(\"third\")\n",
        "def test_train_model(trained_model):\n",
        "    \"\"\"\n",
        "    Uses the trained_model fixture from conftest.py.\n",
        "    Validates that the learned model parameters (coef_/intercept_)\n",
        "    are somewhat close to our synthetic data generation logic.\n",
        "    \"\"\"\n",
        "    model = trained_model  # fixture injection\n",
        "\n",
        "    # The linear regression should have exactly 1 coefficient (X is 1-dimensional).\n",
        "    assert len(model.coef_) == 1\n",
        "\n",
        "    # Our synthetic data uses ~3 for slope and ~4 for intercept.\n",
        "    # We'll tolerate some difference because of noise.\n",
        "    coef_diff = abs(3 - model.coef_[0])\n",
        "    intercept_diff = abs(4 - model.intercept_)\n",
        "\n",
        "    assert coef_diff < 1.0, f\"Learned coefficient too far off: {model.coef_[0]}\"\n",
        "    assert intercept_diff < 2.0, f\"Learned intercept too far off: {model.intercept_}\"\n",
        "\n",
        "@pytest.mark.order(\"last\")\n",
        "@pytest.mark.parametrize(\n",
        "    \"num_samples, expected_range\",\n",
        "    [\n",
        "        (20, (0, 10)),\n",
        "        (100, (0, 10))\n",
        "    ],\n",
        ")\n",
        "def test_evaluate_model(trained_model, num_samples, expected_range):\n",
        "    \"\"\"\n",
        "    Test evaluate_model by creating new test data and checking if\n",
        "    the MSE is within a reasonable range.\n",
        "    \"\"\"\n",
        "    # Create new test data\n",
        "    X_test, y_test = generate_data(num_samples=num_samples, seed=999)\n",
        "\n",
        "    mse = evaluate_model(trained_model, X_test, y_test)\n",
        "\n",
        "    # For a decent linear fit, MSE should be less than 10 for our synthetic data scenario.\n",
        "    assert mse < 10, f\"MSE is unexpectedly high: {mse}\"\n",
        "\n",
        "    # Sanity check on feature range\n",
        "    assert np.min(X_test) >= expected_range[0]\n",
        "    assert np.max(X_test) <= expected_range[1]\n"
      ],
      "metadata": {
        "id": "zWYhMSq_7J9s"
      },
      "execution_count": null,
      "outputs": []
    },
    {
      "cell_type": "markdown",
      "source": [
        "* `@pytest.mark.order(\"first\")`: Uses the pytest-order or pytest-ordering plugin to specify that this test should run first.\n",
        "* `@pytest.mark.parametrize(...)`: Pytest runs the test function multiple times with different parameter values.\n",
        "* `trained_model`: Automatically injected from the fixture in conftest.py. No need for extra imports or manual calls."
      ],
      "metadata": {
        "id": "AGLfG2mj8weo"
      }
    },
    {
      "cell_type": "markdown",
      "source": [
        "### Code Example (Integration Units)"
      ],
      "metadata": {
        "id": "QErQFsrFKZH3"
      }
    },
    {
      "cell_type": "code",
      "source": [
        "import pytest\n",
        "from httpx import AsyncClient\n",
        "\n",
        "@pytest.mark.asyncio\n",
        "async def test_get_data_valid(test_client: AsyncClient):\n",
        "    \"\"\"\n",
        "    Test API with a valid query parameter.\n",
        "    \"\"\"\n",
        "    response = await test_client.get(\"/api/v1/data\", params={\"query\": \"valid_query\"})\n",
        "    assert response.status_code == 200\n",
        "    assert response.json() == {\"data\": \"response_data\"}\n",
        "\n",
        "@pytest.mark.asyncio\n",
        "async def test_get_data_invalid(test_client: AsyncClient):\n",
        "    \"\"\"\n",
        "    Test API with an invalid query parameter.\n",
        "    \"\"\"\n",
        "    response = await test_client.get(\"/api/v1/data\", params={\"query\": \"invalid_query\"})\n",
        "    assert response.status_code == 400\n",
        "    assert response.json() == {\"error\": \"Invalid request\"}"
      ],
      "metadata": {
        "id": "kgeULjhC8rd_"
      },
      "execution_count": null,
      "outputs": []
    },
    {
      "cell_type": "code",
      "source": [],
      "metadata": {
        "id": "3Lcxn0hIKdZB"
      },
      "execution_count": null,
      "outputs": []
    }
  ]
}